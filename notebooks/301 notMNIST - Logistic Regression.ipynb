{
 "cells": [
  {
   "cell_type": "code",
   "execution_count": 1,
   "metadata": {
    "collapsed": true
   },
   "outputs": [],
   "source": [
    "import os\n",
    "import sys\n",
    "import tarfile\n",
    "import tensorflow as tf\n",
    "import numpy as np\n",
    "from scipy import ndimage\n",
    "from six.moves import cPickle as pickle\n",
    "from six.moves.urllib.request import urlretrieve\n",
    "from sklearn.model_selection import StratifiedShuffleSplit"
   ]
  },
  {
   "cell_type": "code",
   "execution_count": 2,
   "metadata": {
    "collapsed": false
   },
   "outputs": [],
   "source": [
    "top_data_folder = './data/notMNIST/'\n",
    "dataset_small = 'notMNIST_small'\n",
    "dataset_large = 'notMNIST_large'\n",
    "\n",
    "if not os.path.exists(top_data_folder):\n",
    "    os.makedirs(top_data_folder)\n",
    "\n",
    "def path_to(f):\n",
    "    return os.path.join(top_data_folder, f)"
   ]
  },
  {
   "cell_type": "code",
   "execution_count": 3,
   "metadata": {
    "collapsed": true
   },
   "outputs": [],
   "source": [
    "class DownloadProgress:\n",
    "    def __init__(self):\n",
    "        self.last_percent_reported = None\n",
    "\n",
    "    def __call__(self, count, blockSize, totalSize):\n",
    "        percent = int(count * blockSize * 100 / totalSize)\n",
    "\n",
    "        if self.last_percent_reported != percent:\n",
    "            if percent % 5 == 0:\n",
    "                sys.stdout.write(\"%s%%\" % percent)\n",
    "                sys.stdout.flush()\n",
    "            else:\n",
    "                sys.stdout.write(\".\")\n",
    "                sys.stdout.flush()\n",
    "      \n",
    "            self.last_percent_reported = percent"
   ]
  },
  {
   "cell_type": "code",
   "execution_count": 4,
   "metadata": {
    "collapsed": false
   },
   "outputs": [],
   "source": [
    "def download_and_extract(dataset_name):\n",
    "    dataset_archive = dataset_name + '.tar.gz'\n",
    "    filename = path_to(dataset_archive)\n",
    "    if not os.path.exists(filename):\n",
    "        url = 'http://commondatastorage.googleapis.com/books1000/' + dataset_archive\n",
    "        urlretrieve(url, filename, reporthook=DownloadProgress())\n",
    "\n",
    "    letters_folder = path_to(dataset_name)\n",
    "\n",
    "    if not os.path.exists(letters_folder):\n",
    "        with tarfile.open(filename) as tar:\n",
    "            tar.extractall(path=top_data_folder)"
   ]
  },
  {
   "cell_type": "code",
   "execution_count": 5,
   "metadata": {
    "collapsed": false
   },
   "outputs": [
    {
     "name": "stdout",
     "output_type": "stream",
     "text": [
      "0%....5%....10%....15%....20%....25%....30%....35%....40%....45%....50%....55%....60%....65%....70%....75%....80%....85%....90%....95%....100%"
     ]
    }
   ],
   "source": [
    "download_and_extract(dataset_large)"
   ]
  },
  {
   "cell_type": "code",
   "execution_count": 6,
   "metadata": {
    "collapsed": true
   },
   "outputs": [],
   "source": [
    "image_size = 28\n",
    "image_pixels = image_size * image_size\n",
    "class_count = 10\n",
    "\n",
    "def load_folder(folder):\n",
    "    image_filenames = [f for f in os.listdir(folder) if not os.path.isdir(os.path.join(folder, f))]\n",
    "    image_count = len(image_filenames)\n",
    "    \n",
    "    dataset = np.ndarray(shape=(image_count, image_pixels), dtype=np.float32)\n",
    "    \n",
    "    image_counter = 0\n",
    "    \n",
    "    for f in image_filenames:\n",
    "        image_filename = os.path.join(folder, f)\n",
    "        try:\n",
    "            image_data = np.ndarray.flatten(ndimage.imread(image_filename).astype(float))\n",
    "            dataset[image_counter, :] = image_data\n",
    "            image_counter += 1\n",
    "        except IOError as e:\n",
    "            # There are plenty of images, I skip this one\n",
    "            pass\n",
    "        \n",
    "    dataset = dataset[0:image_counter, :]\n",
    "    \n",
    "    print('Full dataset tensor for %s:' % folder, dataset.shape)\n",
    "    \n",
    "    return dataset"
   ]
  },
  {
   "cell_type": "code",
   "execution_count": 7,
   "metadata": {
    "collapsed": false
   },
   "outputs": [],
   "source": [
    "def get_complete_dataset(dataset_name):\n",
    "    image_depth = 256\n",
    "    \n",
    "    pickle_file = path_to(dataset_name + '.pickle')\n",
    "    \n",
    "    if not os.path.exists(pickle_file):\n",
    "        image_pixels = []\n",
    "        image_labels = []\n",
    "        image_labels_one_hot = []\n",
    "        \n",
    "        for i, letter in enumerate(\"ABCDEFGHIJ\"):\n",
    "            letter_dataset = (load_folder(path_to(os.path.join(dataset_name, letter))) * 2 - image_depth) / image_depth\n",
    "            \n",
    "            letter_image_count = len(letter_dataset)\n",
    "            \n",
    "            letter_labels = np.ones(shape=(letter_image_count,), dtype=np.float32) * i\n",
    "            letter_labels_one_hot = np.ndarray(shape=(letter_image_count, class_count), dtype=np.float32)\n",
    "            \n",
    "            label_one_hot = np.zeros(shape = (class_count,), dtype=np.float32)\n",
    "            label_one_hot[i] = 1.0\n",
    "            letter_labels_one_hot[:] = label_one_hot\n",
    "            \n",
    "            image_pixels.append(letter_dataset)\n",
    "            image_labels.append(letter_labels)\n",
    "            image_labels_one_hot.append(letter_labels_one_hot)\n",
    "            \n",
    "        dataset = { 'pixels': np.concatenate(image_pixels), \n",
    "                    'labels': np.concatenate(image_labels),\n",
    "                    'labels_one_hot': np.concatenate(image_labels_one_hot) }\n",
    "            \n",
    "        with open(pickle_file, 'wb') as f:\n",
    "            pickle.dump(dataset, f, pickle.HIGHEST_PROTOCOL)\n",
    "            \n",
    "        return dataset\n",
    "    else:\n",
    "        with open(pickle_file, 'rb') as f:\n",
    "            return pickle.load(f)"
   ]
  },
  {
   "cell_type": "code",
   "execution_count": 8,
   "metadata": {
    "collapsed": true
   },
   "outputs": [],
   "source": [
    "def split(dataset_name, test_size=0.2, validate_size=0.25, random_state=42):\n",
    "    dataset = get_complete_dataset(dataset_name)\n",
    "    answer = {}\n",
    "    \n",
    "    sss1 = StratifiedShuffleSplit(n_splits=1, test_size=test_size, random_state=random_state)\n",
    "    train_validate_indices, test_indices = list(sss1.split(dataset['pixels'], dataset['labels']))[0]\n",
    "\n",
    "    answer['X_test'] = dataset['pixels'][test_indices]\n",
    "    answer['y_test'] = dataset['labels_one_hot'][test_indices]\n",
    "\n",
    "    train_validate_pixels = dataset['pixels'][train_validate_indices]\n",
    "    train_validate_labels = dataset['labels'][train_validate_indices]\n",
    "    train_validate_labels_one_hot = dataset['labels_one_hot'][train_validate_indices]\n",
    "    \n",
    "    sss2 = StratifiedShuffleSplit(n_splits=1, test_size=validate_size, random_state=random_state * random_state)\n",
    "    train_indices, validate_indices = list(sss2.split(train_validate_pixels, train_validate_labels_one_hot))[0]\n",
    "    \n",
    "    answer['X_train'] = train_validate_pixels[train_indices]\n",
    "    answer['y_train'] = train_validate_labels_one_hot[train_indices]\n",
    "    \n",
    "    answer['X_validate'] = train_validate_pixels[validate_indices]\n",
    "    answer['y_validate'] = train_validate_labels_one_hot[validate_indices]\n",
    "    \n",
    "    return answer    "
   ]
  },
  {
   "cell_type": "code",
   "execution_count": 9,
   "metadata": {
    "collapsed": false
   },
   "outputs": [
    {
     "name": "stdout",
     "output_type": "stream",
     "text": [
      "('Full dataset tensor for ./data/notMNIST/notMNIST_large/A:', (52909, 784))\n",
      "('Full dataset tensor for ./data/notMNIST/notMNIST_large/B:', (52911, 784))\n",
      "('Full dataset tensor for ./data/notMNIST/notMNIST_large/C:', (52912, 784))\n",
      "('Full dataset tensor for ./data/notMNIST/notMNIST_large/D:', (52911, 784))\n",
      "('Full dataset tensor for ./data/notMNIST/notMNIST_large/E:', (52912, 784))\n",
      "('Full dataset tensor for ./data/notMNIST/notMNIST_large/F:', (52912, 784))\n",
      "('Full dataset tensor for ./data/notMNIST/notMNIST_large/G:', (52912, 784))\n",
      "('Full dataset tensor for ./data/notMNIST/notMNIST_large/H:', (52912, 784))\n",
      "('Full dataset tensor for ./data/notMNIST/notMNIST_large/I:', (52912, 784))\n",
      "('Full dataset tensor for ./data/notMNIST/notMNIST_large/J:', (52911, 784))\n"
     ]
    }
   ],
   "source": [
    "split_dataset = split(dataset_large)"
   ]
  },
  {
   "cell_type": "code",
   "execution_count": 10,
   "metadata": {
    "collapsed": false
   },
   "outputs": [
    {
     "name": "stdout",
     "output_type": "stream",
     "text": [
      "('X_test', (105823, 784))\n",
      "('X_train', (317468, 784))\n",
      "('X_validate', (105823, 784))\n",
      "('y_validate', (105823, 10))\n",
      "('y_train', (317468, 10))\n",
      "('y_test', (105823, 10))\n"
     ]
    }
   ],
   "source": [
    "for k in split_dataset.keys():\n",
    "    print(k, split_dataset[k].shape)"
   ]
  },
  {
   "cell_type": "code",
   "execution_count": 11,
   "metadata": {
    "collapsed": true
   },
   "outputs": [],
   "source": [
    "learning_rate = 0.10\n",
    "training_epochs = 20\n",
    "batch_size = 1000\n",
    "display_step = 1"
   ]
  },
  {
   "cell_type": "code",
   "execution_count": 12,
   "metadata": {
    "collapsed": true
   },
   "outputs": [],
   "source": [
    "x = tf.placeholder(tf.float32, [None, image_pixels]) \n",
    "y = tf.placeholder(tf.float32, [None, class_count])"
   ]
  },
  {
   "cell_type": "code",
   "execution_count": 13,
   "metadata": {
    "collapsed": true
   },
   "outputs": [],
   "source": [
    "W = tf.Variable(tf.zeros([image_pixels, class_count]))\n",
    "b = tf.Variable(tf.zeros([class_count]))"
   ]
  },
  {
   "cell_type": "code",
   "execution_count": 14,
   "metadata": {
    "collapsed": true
   },
   "outputs": [],
   "source": [
    "pred = tf.nn.softmax(tf.matmul(x, W) + b)"
   ]
  },
  {
   "cell_type": "code",
   "execution_count": 15,
   "metadata": {
    "collapsed": true
   },
   "outputs": [],
   "source": [
    "cost = tf.reduce_mean(-tf.reduce_sum(y * tf.log(pred), reduction_indices=1))"
   ]
  },
  {
   "cell_type": "code",
   "execution_count": 16,
   "metadata": {
    "collapsed": true
   },
   "outputs": [],
   "source": [
    "optimizer = tf.train.GradientDescentOptimizer(learning_rate).minimize(cost)"
   ]
  },
  {
   "cell_type": "code",
   "execution_count": 17,
   "metadata": {
    "collapsed": true
   },
   "outputs": [],
   "source": [
    "init = tf.initialize_all_variables()"
   ]
  },
  {
   "cell_type": "code",
   "execution_count": 18,
   "metadata": {
    "collapsed": false
   },
   "outputs": [
    {
     "name": "stdout",
     "output_type": "stream",
     "text": [
      "Epoch: 001 cost= 0.692705597\n",
      "Epoch: 002 cost= 0.644977921\n",
      "Epoch: 003 cost= 0.636006793\n",
      "Epoch: 004 cost= 0.630900176\n",
      "Epoch: 005 cost= 0.627562904\n",
      "Epoch: 006 cost= 0.625197656\n",
      "Epoch: 007 cost= 0.623418302\n",
      "Epoch: 008 cost= 0.622017868\n",
      "Epoch: 009 cost= 0.620877333\n",
      "Epoch: 010 cost= 0.619923928\n",
      "Epoch: 011 cost= 0.619110656\n",
      "Epoch: 012 cost= 0.618405733\n",
      "Epoch: 013 cost= 0.617786754\n",
      "Epoch: 014 cost= 0.617237339\n",
      "Epoch: 015 cost= 0.616745241\n",
      "Epoch: 016 cost= 0.616301037\n",
      "Epoch: 017 cost= 0.615897387\n",
      "Epoch: 018 cost= 0.615528396\n",
      "Epoch: 019 cost= 0.615189377\n",
      "Epoch: 020 cost= 0.614876428\n",
      "Optimization Finished!\n",
      "Accuracy: 0.83291\n"
     ]
    }
   ],
   "source": [
    "with tf.Session() as sess:\n",
    "    sess.run(init)\n",
    "\n",
    "    X_train = split_dataset['X_train']\n",
    "    y_train = split_dataset['y_train']\n",
    "    \n",
    "    # Training cycle\n",
    "    for epoch in range(training_epochs):\n",
    "        avg_cost = 0.\n",
    "        total_batch = int(len(X_train)/batch_size)\n",
    "        # Loop over all batches\n",
    "        for i in range(total_batch):\n",
    "            batch_indices = range(i * batch_size, min(len(X_train), (i+1) * batch_size))\n",
    "            batch_xs = X_train[batch_indices] \n",
    "            batch_ys = y_train[batch_indices]\n",
    "            # Fit training using batch data\n",
    "            _, c = sess.run([optimizer, cost], feed_dict={x: batch_xs, y: batch_ys})\n",
    "            # Compute average loss\n",
    "            avg_cost += c / total_batch\n",
    "        # Display logs per epoch step\n",
    "        if (epoch+1) % display_step == 0:\n",
    "            print \"Epoch:\", '%03d' % (epoch+1), \"cost=\", \"{:.9f}\".format(avg_cost)\n",
    "\n",
    "    print \"Optimization Finished!\"\n",
    "\n",
    "    # Test model\n",
    "    correct_prediction = tf.equal(tf.argmax(pred, 1), tf.argmax(y, 1))\n",
    "    # Calculate accuracy for 3000 examples\n",
    "    accuracy = tf.reduce_mean(tf.cast(correct_prediction, tf.float32))\n",
    "    print \"Accuracy:\", accuracy.eval({x: split_dataset['X_test'], y: split_dataset['y_test']})"
   ]
  },
  {
   "cell_type": "code",
   "execution_count": null,
   "metadata": {
    "collapsed": true
   },
   "outputs": [],
   "source": []
  }
 ],
 "metadata": {
  "kernelspec": {
   "display_name": "Python 2",
   "language": "python",
   "name": "python2"
  },
  "language_info": {
   "codemirror_mode": {
    "name": "ipython",
    "version": 2
   },
   "file_extension": ".py",
   "mimetype": "text/x-python",
   "name": "python",
   "nbconvert_exporter": "python",
   "pygments_lexer": "ipython2",
   "version": "2.7.6"
  }
 },
 "nbformat": 4,
 "nbformat_minor": 1
}
