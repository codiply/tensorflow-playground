{
 "cells": [
  {
   "cell_type": "code",
   "execution_count": 1,
   "metadata": {
    "collapsed": true
   },
   "outputs": [],
   "source": [
    "import os\n",
    "import sys\n",
    "import tensorflow as tf\n",
    "import zipfile\n",
    "\n",
    "from six.moves.urllib.request import urlretrieve"
   ]
  },
  {
   "cell_type": "code",
   "execution_count": 2,
   "metadata": {
    "collapsed": false
   },
   "outputs": [],
   "source": [
    "top_data_folder = './data/text8/'\n",
    "\n",
    "logs_folder = './logs'\n",
    "\n",
    "if not os.path.exists(top_data_folder):\n",
    "    os.makedirs(top_data_folder)\n",
    "    \n",
    "def path_to(f):\n",
    "    return os.path.join(top_data_folder, f)\n",
    "    \n",
    "if not os.path.exists(logs_folder):\n",
    "    os.makedirs(logs_folder)"
   ]
  },
  {
   "cell_type": "code",
   "execution_count": 3,
   "metadata": {
    "collapsed": true
   },
   "outputs": [],
   "source": [
    "class DownloadProgress:\n",
    "    def __init__(self):\n",
    "        self.last_percent_reported = None\n",
    "\n",
    "    def __call__(self, count, blockSize, totalSize):\n",
    "        percent = int(count * blockSize * 100 / totalSize)\n",
    "\n",
    "        if self.last_percent_reported != percent:\n",
    "            if percent % 5 == 0:\n",
    "                sys.stdout.write(\"%s%%\" % percent)\n",
    "                sys.stdout.flush()\n",
    "            else:\n",
    "                sys.stdout.write(\".\")\n",
    "                sys.stdout.flush()\n",
    "      \n",
    "            self.last_percent_reported = percent"
   ]
  },
  {
   "cell_type": "code",
   "execution_count": 4,
   "metadata": {
    "collapsed": false
   },
   "outputs": [
    {
     "name": "stdout",
     "output_type": "stream",
     "text": [
      "0%....5%....10%....15%....20%....25%....30%....35%....40%....45%....50%....55%....60%....65%....70%....75%....80%....85%....90%....95%....100%"
     ]
    }
   ],
   "source": [
    "base_url = 'http://mattmahoney.net/dc/'\n",
    "zip_file = 'text8.zip'\n",
    "zip_path = path_to(zip_file)\n",
    "\n",
    "def download_zip():\n",
    "    url = base_url + zip_file\n",
    "    \n",
    "    if not os.path.exists(zip_path):\n",
    "        urlretrieve(url, zip_path, reporthook=DownloadProgress())\n",
    " \n",
    "download_zip()"
   ]
  },
  {
   "cell_type": "code",
   "execution_count": 10,
   "metadata": {
    "collapsed": false
   },
   "outputs": [
    {
     "name": "stdout",
     "output_type": "stream",
     "text": [
      "Number of words: 17005207\n"
     ]
    }
   ],
   "source": [
    "def read_data(zip_filename):\n",
    "  with zipfile.ZipFile(zip_path) as z:\n",
    "    first_file = z.namelist()[0]\n",
    "    content = z.read(first_file)\n",
    "    return tf.compat.as_str(content).split()\n",
    "  \n",
    "words = read_data(path_to)\n",
    "print('Number of words: %d' % len(words))"
   ]
  },
  {
   "cell_type": "code",
   "execution_count": 9,
   "metadata": {
    "collapsed": false
   },
   "outputs": [
    {
     "data": {
      "text/plain": [
       "17005207"
      ]
     },
     "execution_count": 9,
     "metadata": {},
     "output_type": "execute_result"
    }
   ],
   "source": [
    "len(words)"
   ]
  },
  {
   "cell_type": "code",
   "execution_count": null,
   "metadata": {
    "collapsed": true
   },
   "outputs": [],
   "source": []
  }
 ],
 "metadata": {
  "kernelspec": {
   "display_name": "Python 2",
   "language": "python",
   "name": "python2"
  },
  "language_info": {
   "codemirror_mode": {
    "name": "ipython",
    "version": 2
   },
   "file_extension": ".py",
   "mimetype": "text/x-python",
   "name": "python",
   "nbconvert_exporter": "python",
   "pygments_lexer": "ipython2",
   "version": "2.7.6"
  }
 },
 "nbformat": 4,
 "nbformat_minor": 1
}
