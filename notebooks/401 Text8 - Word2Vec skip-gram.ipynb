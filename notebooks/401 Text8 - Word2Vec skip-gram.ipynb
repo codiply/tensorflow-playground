{
 "cells": [
  {
   "cell_type": "code",
   "execution_count": 1,
   "metadata": {
    "collapsed": true
   },
   "outputs": [],
   "source": [
    "import os\n",
    "import sys\n",
    "import tensorflow as tf\n",
    "import zipfile\n",
    "\n",
    "from six.moves.urllib.request import urlretrieve\n",
    "from collections import Counter"
   ]
  },
  {
   "cell_type": "code",
   "execution_count": 2,
   "metadata": {
    "collapsed": false
   },
   "outputs": [],
   "source": [
    "top_data_folder = './data/text8/'\n",
    "\n",
    "logs_folder = './logs'\n",
    "\n",
    "if not os.path.exists(top_data_folder):\n",
    "    os.makedirs(top_data_folder)\n",
    "    \n",
    "def path_to(f):\n",
    "    return os.path.join(top_data_folder, f)\n",
    "    \n",
    "if not os.path.exists(logs_folder):\n",
    "    os.makedirs(logs_folder)"
   ]
  },
  {
   "cell_type": "code",
   "execution_count": 3,
   "metadata": {
    "collapsed": true
   },
   "outputs": [],
   "source": [
    "class DownloadProgress:\n",
    "    def __init__(self):\n",
    "        self.last_percent_reported = None\n",
    "\n",
    "    def __call__(self, count, blockSize, totalSize):\n",
    "        percent = int(count * blockSize * 100 / totalSize)\n",
    "\n",
    "        if self.last_percent_reported != percent:\n",
    "            if percent % 5 == 0:\n",
    "                sys.stdout.write(\"%s%%\" % percent)\n",
    "                sys.stdout.flush()\n",
    "            else:\n",
    "                sys.stdout.write(\".\")\n",
    "                sys.stdout.flush()\n",
    "      \n",
    "            self.last_percent_reported = percent"
   ]
  },
  {
   "cell_type": "code",
   "execution_count": 4,
   "metadata": {
    "collapsed": false
   },
   "outputs": [],
   "source": [
    "base_url = 'http://mattmahoney.net/dc/'\n",
    "zip_file = 'text8.zip'\n",
    "zip_path = path_to(zip_file)\n",
    "\n",
    "def download_zip():\n",
    "    url = base_url + zip_file\n",
    "    \n",
    "    if not os.path.exists(zip_path):\n",
    "        urlretrieve(url, zip_path, reporthook=DownloadProgress())\n",
    " \n",
    "download_zip()"
   ]
  },
  {
   "cell_type": "code",
   "execution_count": 5,
   "metadata": {
    "collapsed": false
   },
   "outputs": [
    {
     "name": "stdout",
     "output_type": "stream",
     "text": [
      "Number of words: 17005207\n"
     ]
    }
   ],
   "source": [
    "def read_data(zip_filename):\n",
    "  with zipfile.ZipFile(zip_path) as z:\n",
    "    first_file = z.namelist()[0]\n",
    "    content = z.read(first_file)\n",
    "    return tf.compat.as_str(content).split()\n",
    "  \n",
    "words = read_data(path_to)\n",
    "print('Number of words: %d' % len(words))"
   ]
  },
  {
   "cell_type": "code",
   "execution_count": 6,
   "metadata": {
    "collapsed": false
   },
   "outputs": [],
   "source": [
    "class WordsDataset:\n",
    "    def __init__(self, words, vocabulary_size):\n",
    "        self.words = words\n",
    "        self._counter = Counter(words)\n",
    "        self._words_to_keep = self._counter.most_common(vocabulary_size - 1)\n",
    "        self.dictionary = dict()\n",
    "        self.inverse_dictionary = dict()\n",
    "        for i, (w, c) in enumerate(self._words_to_keep):\n",
    "            self.dictionary[w] = i + 1\n",
    "            self.inverse_dictionary[i + 1] = w\n",
    "        self.numbers = []\n",
    "        for w in words:\n",
    "            x = self.dictionary.get(w, None)\n",
    "            if x is None:\n",
    "                self.numbers.append(0)\n",
    "            else:\n",
    "                self.numbers.append(x)"
   ]
  },
  {
   "cell_type": "code",
   "execution_count": 7,
   "metadata": {
    "collapsed": false
   },
   "outputs": [],
   "source": [
    "data = WordsDataset(words, vocabulary_size=50000)"
   ]
  },
  {
   "cell_type": "code",
   "execution_count": null,
   "metadata": {
    "collapsed": true
   },
   "outputs": [],
   "source": []
  }
 ],
 "metadata": {
  "kernelspec": {
   "display_name": "Python 2",
   "language": "python",
   "name": "python2"
  },
  "language_info": {
   "codemirror_mode": {
    "name": "ipython",
    "version": 2
   },
   "file_extension": ".py",
   "mimetype": "text/x-python",
   "name": "python",
   "nbconvert_exporter": "python",
   "pygments_lexer": "ipython2",
   "version": "2.7.6"
  }
 },
 "nbformat": 4,
 "nbformat_minor": 1
}
